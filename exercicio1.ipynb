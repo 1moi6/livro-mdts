{
 "cells": [
  {
   "cell_type": "code",
   "execution_count": 1,
   "metadata": {},
   "outputs": [],
   "source": [
    "import numpy as np\n",
    "import matplotlib.pyplot as plt\n",
    "import random"
   ]
  },
  {
   "cell_type": "code",
   "execution_count": 8,
   "metadata": {},
   "outputs": [
    {
     "ename": "KeyboardInterrupt",
     "evalue": "",
     "output_type": "error",
     "traceback": [
      "\u001b[0;31m---------------------------------------------------------------------------\u001b[0m",
      "\u001b[0;31mKeyboardInterrupt\u001b[0m                         Traceback (most recent call last)",
      "Cell \u001b[0;32mIn[8], line 24\u001b[0m\n\u001b[1;32m     22\u001b[0m M \u001b[39m=\u001b[39m \u001b[39mmax\u001b[39m(Q[:,t])\n\u001b[1;32m     23\u001b[0m a_s \u001b[39m=\u001b[39m []\n\u001b[0;32m---> 24\u001b[0m auxv \u001b[39m=\u001b[39m random\u001b[39m.\u001b[39;49mrandom()\n\u001b[1;32m     25\u001b[0m \u001b[39mif\u001b[39;00m auxv\u001b[39m<\u001b[39m\u001b[39m1\u001b[39m\u001b[39m-\u001b[39mvareps:\n\u001b[1;32m     26\u001b[0m     \u001b[39mfor\u001b[39;00m i \u001b[39min\u001b[39;00m \u001b[39mrange\u001b[39m(\u001b[39m10\u001b[39m):\n",
      "\u001b[0;31mKeyboardInterrupt\u001b[0m: "
     ]
    }
   ],
   "source": [
    "Reward = np.zeros((2000,1000))\n",
    "vareps = 0.0\n",
    "for n in range(2000):\n",
    "    A = np.zeros((10,1000)) # % Action register\n",
    "    R = np.zeros((10,1000)) # % Reward register\n",
    "    Q = np.zeros((10,1000)) # % Value register\n",
    "    a = np.random.normal(0, 1, 10)\n",
    "    # Inital\n",
    "    f = random.randint(0,9)\n",
    "    A[f,0] = 1\n",
    "    R[f,0] = np.random.normal(a[f], 1, 1)\n",
    "    \n",
    "    # After Inital\n",
    "    for t in range(1,1000):\n",
    "        #Determine Action Value estimate using sample average method\n",
    "        for i in range(10):\n",
    "            if A[i,t-1] == 1:\n",
    "                Q[i,t] = np.sum(R[i,0:t])/np.sum(A[i,0:t])\n",
    "            else:\n",
    "                Q[i,t] = Q[i,t-1]\n",
    "                \n",
    "        M = max(Q[:,t])\n",
    "        a_s = []\n",
    "        auxv = random.random()\n",
    "        if auxv<1-vareps:\n",
    "            for i in range(10):\n",
    "                if Q[i,t] == M:\n",
    "                    a_s.append(i)\n",
    "                    \n",
    "            if len(a_s) > 1:  # Multiple greedy actions\n",
    "                r = random.randint(0,len(a_s)-1)\n",
    "                k = a_s[r]\n",
    "            else:   # A greedy action\n",
    "                k = a_s[0]\n",
    "        else:\n",
    "            k = random.randint(0,9)\n",
    "        \n",
    "        A[k,t] = 1      # Action Register \n",
    "        R[k,t] = np.random.normal(a[k], 1, 1)   #Reward register\n",
    "    Reward[n,:]= [sum([row[i] for row in R]) for i in range(0,len(R[0]))]"
   ]
  },
  {
   "cell_type": "code",
   "execution_count": null,
   "metadata": {},
   "outputs": [],
   "source": [
    "T = np.mean(Reward,axis=0)\n",
    "plt.plot(T)"
   ]
  },
  {
   "cell_type": "code",
   "execution_count": 9,
   "metadata": {},
   "outputs": [
    {
     "data": {
      "text/plain": [
       "array([[0.        , 0.        , 0.        , ..., 0.        , 0.        ,\n",
       "        0.        ],\n",
       "       [0.        , 0.        , 0.        , ..., 0.        , 0.        ,\n",
       "        0.        ],\n",
       "       [0.        , 0.        , 0.        , ..., 0.        , 0.        ,\n",
       "        0.        ],\n",
       "       ...,\n",
       "       [0.        , 0.        , 0.        , ..., 0.        , 0.        ,\n",
       "        0.        ],\n",
       "       [0.70804896, 1.48324964, 1.60154558, ..., 0.        , 0.        ,\n",
       "        0.        ],\n",
       "       [0.        , 0.        , 0.        , ..., 0.        , 0.        ,\n",
       "        0.        ]])"
      ]
     },
     "execution_count": 9,
     "metadata": {},
     "output_type": "execute_result"
    }
   ],
   "source": [
    "R"
   ]
  }
 ],
 "metadata": {
  "kernelspec": {
   "display_name": "basico",
   "language": "python",
   "name": "python3"
  },
  "language_info": {
   "codemirror_mode": {
    "name": "ipython",
    "version": 3
   },
   "file_extension": ".py",
   "mimetype": "text/x-python",
   "name": "python",
   "nbconvert_exporter": "python",
   "pygments_lexer": "ipython3",
   "version": "3.10.8"
  },
  "orig_nbformat": 4,
  "vscode": {
   "interpreter": {
    "hash": "c465bf73b49a10f80478bca24b58099e5ba305018ffe2f60e88c492037de4269"
   }
  }
 },
 "nbformat": 4,
 "nbformat_minor": 2
}
