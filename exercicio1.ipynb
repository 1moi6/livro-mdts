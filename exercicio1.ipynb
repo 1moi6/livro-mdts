{
 "cells": [
  {
   "cell_type": "code",
   "execution_count": 3,
   "metadata": {},
   "outputs": [],
   "source": [
    "import numpy as np\n",
    "import matplotlib.pyplot as plt\n",
    "import random"
   ]
  },
  {
   "cell_type": "code",
   "execution_count": null,
   "metadata": {},
   "outputs": [],
   "source": [
    "def bandit10hist(nsim=2000,tam =1000, vareps=0.05,q0=0):\n",
    "    Reward = np.zeros((nsim,tam))\n",
    "    for n in range(nsim):\n",
    "        A = np.zeros((10,tam)) # % Action register\n",
    "        R = np.zeros((10,tam)) # % Reward register\n",
    "        Q = q0*np.ones((10,tam)) # % Value register\n",
    "        a = np.random.normal(0, 1, 10)\n",
    "        # Inital\n",
    "        f = random.randint(0,9)\n",
    "        A[f,0] = 1\n",
    "        R[f,0] = np.random.normal(a[f], 1, 1)\n",
    "        \n",
    "        # After Inital\n",
    "        for t in range(1,1000):\n",
    "            #Determine Action Value estimate using sample average method\n",
    "            for i in range(10):\n",
    "                if A[i,t-1] == 1:\n",
    "                    Q[i,t] = np.sum(R[i,0:t])/np.sum(A[i,0:t])\n",
    "                else:\n",
    "                    Q[i,t] = Q[i,t-1]\n",
    "                    \n",
    "            M = max(Q[:,t])\n",
    "            a_s = []\n",
    "            auxv = random.random()\n",
    "            if auxv<1-vareps:\n",
    "                for i in range(10):\n",
    "                    if Q[i,t] == M:\n",
    "                        a_s.append(i)\n",
    "                        \n",
    "                if len(a_s) > 1:  # Multiple greedy actions\n",
    "                    r = random.randint(0,len(a_s)-1)\n",
    "                    k = a_s[r]\n",
    "                else:   # A greedy action\n",
    "                    k = a_s[0]\n",
    "            else:\n",
    "                k = random.randint(0,9)\n",
    "            \n",
    "            A[k,t] = 1      # Action Register \n",
    "            R[k,t] = np.random.normal(a[k], 1, 1)   #Reward register\n",
    "            Reward[n,:] = [sum([row[i] for row in R]) for i in range(0,len(R[0]))]\n",
    "            \n",
    "    return Reward"
   ]
  },
  {
   "cell_type": "code",
   "execution_count": null,
   "metadata": {},
   "outputs": [],
   "source": [
    "def bandit10(nsim=2000,tam =1000, vareps=0.05,q0=0):\n",
    "    reward = np.zeros((nsim,tam))\n",
    "    potimo =  np.zeros((nsim,tam))\n",
    "    \n",
    "    for n in range(nsim):\n",
    "        Q = q0*np.ones((10,))# % Value register\n",
    "        a = np.random.normal(0, 1, 10)\n",
    "        C = np.ones((10,))\n",
    "        \n",
    "        cnt = 0\n",
    "        xx = np.argmax(a)\n",
    "        \n",
    "        # f = random.randint(0,9)\n",
    "        # Q[f] = np.random.normal(a[f], 1, 1)\n",
    "        # # After Inital\n",
    "        for t in range(0,1000):\n",
    "            #Determine Action Value estimate using sample average method\n",
    "                    \n",
    "            M = max(Q)\n",
    "            a_s = []\n",
    "            auxv = random.random()\n",
    "            if auxv<1-vareps:\n",
    "                for i in range(10):\n",
    "                    if Q[i] == M:\n",
    "                        a_s.append(i)\n",
    "                        \n",
    "                if len(a_s) > 1:  # Multiple greedy actions\n",
    "                    r = random.randint(0,len(a_s)-1)\n",
    "                    k = a_s[r]\n",
    "                else:   # A greedy action\n",
    "                    k = a_s[0]\n",
    "            else:\n",
    "                k = random.randint(0,9)\n",
    "            \n",
    "            if xx == k:\n",
    "                cnt = cnt+1\n",
    "\n",
    "            \n",
    "            C[k]=C[k]+1\n",
    "            R = np.random.normal(a[k], 1, 1)\n",
    "            Q[k] = Q[k]+(1/C[k])*(R-Q[k])   #Reward register\n",
    "            reward[n,t] = R\n",
    "            potimo[n,t] = cnt/(t+1)\n",
    "    return reward, potimo"
   ]
  },
  {
   "cell_type": "code",
   "execution_count": null,
   "metadata": {},
   "outputs": [],
   "source": [
    "def bandit10ubc(nsim=2000,tam =1000, vareps=0.05,q0=0,c = 2):\n",
    "    reward = np.zeros((nsim,tam))\n",
    "    potimo =  np.zeros((nsim,tam))\n",
    "    \n",
    "    for n in range(nsim):\n",
    "        Q = q0*np.ones((10,))# % Value register\n",
    "        a = np.random.normal(0, 1, 10)\n",
    "        C = np.ones((10,))\n",
    "        \n",
    "        cnt = 0\n",
    "        xx = np.argmax(a)\n",
    "        \n",
    "        for t in range(0,1000):\n",
    "            #Determine Action Value estimate using sample average method\n",
    "\n",
    "            Qaux = []       \n",
    "            for i in range(10):\n",
    "                Qaux.append(Q[i]+c*np.sqrt(np.log(t+1)/C[i])) \n",
    "            \n",
    "            M = max(Qaux)\n",
    "            a_s = []\n",
    "            auxv = random.random()\n",
    "            if auxv<1-vareps:\n",
    "                for i in range(10):\n",
    "                    if Qaux[i] == M:\n",
    "                        a_s.append(i)\n",
    "                        \n",
    "                if len(a_s) > 1:  # Multiple greedy actions\n",
    "                    r = random.randint(0,len(a_s)-1)\n",
    "                    k = a_s[r]\n",
    "                else:   # A greedy action\n",
    "                    k = a_s[0]\n",
    "            else:\n",
    "                k = random.randint(0,9)\n",
    "            \n",
    "            if xx == k:\n",
    "                cnt = cnt+1\n",
    "\n",
    "            \n",
    "            C[k]=C[k]+1\n",
    "            R = np.random.normal(a[k], 1, 1)\n",
    "            Q[k] = Q[k]+(1/C[k])*(R-Q[k])   #Reward register\n",
    "            reward[n,t] = R\n",
    "            potimo[n,t] = cnt/(t+1)\n",
    "    return reward, potimo"
   ]
  },
  {
   "cell_type": "code",
   "execution_count": 11,
   "metadata": {},
   "outputs": [],
   "source": [
    "def bandit10grad(nsim=1000,tam =1000, vareps=0.0,q0 = 0,alpha = 0.1):\n",
    "    reward = np.zeros((nsim,tam))\n",
    "    potimo =  np.zeros((nsim,tam))\n",
    "    \n",
    "    for n in range(nsim):\n",
    "        Q = q0*np.ones((10,))# % Value register\n",
    "        a = np.random.normal(0, 1, 10)\n",
    "        C = np.ones((10,))\n",
    "        H = np.zeros((10,))\n",
    "        \n",
    "        cnt = 0\n",
    "        xx = np.argmax(a)\n",
    "        \n",
    "        for t in range(0,1000):\n",
    "            #Determine Action Value estimate using sample average method\n",
    "\n",
    "            pit = np.exp(H)/sum(np.exp(H))\n",
    "\n",
    "            cpit = np.cumsum(pit)\n",
    "            auxv = random.random()\n",
    "            if auxv<1-vareps:\n",
    "                sela = random.random()\n",
    "                k = np.sum(cpit<sela)\n",
    "            else:\n",
    "                k = random.randint(0,9)\n",
    "            \n",
    "            if xx == k:\n",
    "                cnt = cnt+1\n",
    "\n",
    "            \n",
    "            C[k]=C[k]+1\n",
    "            R = np.random.normal(a[k], 1, 1)\n",
    "            for i in range(10):\n",
    "                if i==k:\n",
    "                    H[i] = H[i]+alpha*(R-Q[i])*(1-pit[i])\n",
    "                else:\n",
    "                    H[i] = H[i]-alpha*(R-Q[i])*pit[i]\n",
    "\n",
    "            Q[k] = Q[k]+(1/C[k])*(R-Q[k])   #Reward register\n",
    "            reward[n,t] = R\n",
    "            potimo[n,t] = cnt/(t+1)\n",
    "    return reward, potimo"
   ]
  },
  {
   "cell_type": "code",
   "execution_count": 12,
   "metadata": {},
   "outputs": [],
   "source": [
    "rw1,potm1 = bandit10grad()\n",
    "rw2,potm2 = bandit10grad(alpha = 0.4)"
   ]
  },
  {
   "cell_type": "code",
   "execution_count": 13,
   "metadata": {},
   "outputs": [
    {
     "data": {
      "text/plain": [
       "[<matplotlib.lines.Line2D at 0x7fb8b9f95240>]"
      ]
     },
     "execution_count": 13,
     "metadata": {},
     "output_type": "execute_result"
    },
    {
     "data": {
      "image/png": "[encoded data removed]",
      "text/plain": [
       "<Figure size 640x480 with 1 Axes>"
      ]
     },
     "metadata": {},
     "output_type": "display_data"
    }
   ],
   "source": [
    "plt.plot(np.mean(potm1,axis=0), label = \"q0=0,alpha= 0.1\" )\n",
    "plt.plot(np.mean(potm2,axis=0), label = \"q0=0,alpha=0.4\" )"
   ]
  },
  {
   "cell_type": "code",
   "execution_count": null,
   "metadata": {},
   "outputs": [],
   "source": [
    "rw1,potm1 = bandit10()\n",
    "rw2,potm2 = bandit10(q0=5,vareps=0)\n",
    "rw3,potm3 = bandit10(q0=5,vareps=0.05)\n",
    "rw4,potm4 = bandit10(q0=10,vareps=0)"
   ]
  },
  {
   "cell_type": "code",
   "execution_count": null,
   "metadata": {},
   "outputs": [],
   "source": [
    "rw1,potm1 = bandit10ubc()\n",
    "rw2,potm2 = bandit10ubc(q0=0,vareps=0,c=0)\n",
    "rw3,potm3 = bandit10ubc(q0=0,vareps=0.1,c=0)\n",
    "rw4,potm4 = bandit10ubc(q0=5,vareps=0,c=2)"
   ]
  },
  {
   "cell_type": "code",
   "execution_count": null,
   "metadata": {},
   "outputs": [],
   "source": [
    "fig = plt.figure(figsize=(10,3))\n",
    "ax = fig.subplots(1,2)\n",
    "\n",
    "ax[1].plot(np.mean(potm1,axis=0), label = \"q0=0, vareps=0.05,c=2\" )\n",
    "ax[1].plot(np.mean(potm2,axis=0),label = \"q0=0,vareps=0,c=0\" )\n",
    "ax[1].plot(np.mean(potm3,axis=0),label = \"q0=0,vareps=0.1,c=0\" )\n",
    "ax[1].plot(np.mean(potm4,axis=0),label = \"q0=5,vareps=0,c=2\" )\n",
    "\n",
    "ax[0].plot(np.mean(rw1,axis=0))\n",
    "ax[0].plot(np.mean(rw2,axis=0))\n",
    "ax[0].plot(np.mean(rw3,axis=0))\n",
    "ax[0].plot(np.mean(rw4,axis=0))\n",
    "\n",
    "ax[0].set(xlabel = \"iteracoes\",ylabel = \"recompensa media\")\n",
    "ax[1].set(xlabel = \"iteracoes\",ylabel = \"% ação ótima\")\n",
    "\n",
    "handles, labels = ax[1].get_legend_handles_labels()\n",
    "ax[0].legend(handles, labels)\n",
    "ax[1].legend(handles, labels)"
   ]
  },
  {
   "cell_type": "code",
   "execution_count": null,
   "metadata": {},
   "outputs": [],
   "source": [
    "H = np.zeros((10,))\n",
    "np.exp(H)/sum(np.exp(H))\n",
    "xx = np.cumsum(np.exp(H)/sum(np.exp(H)))\n",
    "sela = random.random()\n",
    "sela"
   ]
  },
  {
   "cell_type": "code",
   "execution_count": null,
   "metadata": {},
   "outputs": [],
   "source": [
    "np.sum(xx<sela)"
   ]
  }
 ],
 "metadata": {
  "kernelspec": {
   "display_name": "basico",
   "language": "python",
   "name": "python3"
  },
  "language_info": {
   "codemirror_mode": {
    "name": "ipython",
    "version": 3
   },
   "file_extension": ".py",
   "mimetype": "text/x-python",
   "name": "python",
   "nbconvert_exporter": "python",
   "pygments_lexer": "ipython3",
   "version": "3.10.8"
  },
  "orig_nbformat": 4,
  "vscode": {
   "interpreter": {
    "hash": "c465bf73b49a10f80478bca24b58099e5ba305018ffe2f60e88c492037de4269"
   }
  }
 },
 "nbformat": 4,
 "nbformat_minor": 2
}
