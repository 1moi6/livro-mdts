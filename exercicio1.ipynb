{
 "cells": [
  {
   "cell_type": "code",
   "execution_count": null,
   "metadata": {},
   "outputs": [],
   "source": [
    "import numpy as np\n",
    "import matplotlib.pyplot as plt\n",
    "import random"
   ]
  },
  {
   "cell_type": "code",
   "execution_count": null,
   "metadata": {},
   "outputs": [],
   "source": [
    "Reward = np.zeros((2000,1000))\n",
    "vareps = 0.05\n",
    "for n in range(Reward.shape[0]):\n",
    "    A = np.zeros((10,1000)) # % Action register\n",
    "    R = np.zeros((10,1000)) # % Reward register\n",
    "    Q = np.zeros((10,1000)) # % Value register\n",
    "    a = np.random.normal(0, 1, 10)\n",
    "    # Inital\n",
    "    f = random.randint(0,9)\n",
    "    A[f,0] = 1\n",
    "    R[f,0] = np.random.normal(a[f], 1, 1)\n",
    "    \n",
    "    # After Inital\n",
    "    for t in range(1,1000):\n",
    "        #Determine Action Value estimate using sample average method\n",
    "        for i in range(10):\n",
    "            if A[i,t-1] == 1:\n",
    "                Q[i,t] = np.sum(R[i,0:t])/np.sum(A[i,0:t])\n",
    "            else:\n",
    "                Q[i,t] = Q[i,t-1]\n",
    "                \n",
    "        M = max(Q[:,t])\n",
    "        a_s = []\n",
    "        auxv = random.random()\n",
    "        if auxv<1-vareps:\n",
    "            for i in range(10):\n",
    "                if Q[i,t] == M:\n",
    "                    a_s.append(i)\n",
    "                    \n",
    "            if len(a_s) > 1:  # Multiple greedy actions\n",
    "                r = random.randint(0,len(a_s)-1)\n",
    "                k = a_s[r]\n",
    "            else:   # A greedy action\n",
    "                k = a_s[0]\n",
    "        else:\n",
    "            k = random.randint(0,9)\n",
    "        \n",
    "        A[k,t] = 1      # Action Register \n",
    "        R[k,t] = np.random.normal(a[k], 1, 1)   #Reward register\n",
    "        \n",
    "    Reward[n,:]= [sum([row[i] for row in R]) for i in range(0,len(R[0]))]"
   ]
  },
  {
   "cell_type": "code",
   "execution_count": null,
   "metadata": {},
   "outputs": [],
   "source": [
    "Reward = np.zeros((2000,1000))\n",
    "vareps = 0.0\n",
    "for n in range(Reward.shape[0]):\n",
    "    Q = np.zeros((10,))# % Value register\n",
    "    a = np.random.normal(0, 1, 10)\n",
    "    C = np.ones((10,))\n",
    "    \n",
    "    # f = random.randint(0,9)\n",
    "    # Q[f] = np.random.normal(a[f], 1, 1)\n",
    "    # # After Inital\n",
    "    for t in range(1,1000):\n",
    "        #Determine Action Value estimate using sample average method\n",
    "                \n",
    "        M = max(Q)\n",
    "        a_s = []\n",
    "        auxv = random.random()\n",
    "        if auxv<1-vareps:\n",
    "            for i in range(10):\n",
    "                if Q[i] == M:\n",
    "                    a_s.append(i)\n",
    "                    \n",
    "            if len(a_s) > 1:  # Multiple greedy actions\n",
    "                r = random.randint(0,len(a_s)-1)\n",
    "                k = a_s[r]\n",
    "            else:   # A greedy action\n",
    "                k = a_s[0]\n",
    "        else:\n",
    "            k = random.randint(0,9)\n",
    "        \n",
    "        C[k]=C[k]+1\n",
    "        R = np.random.normal(a[k], 1, 1)\n",
    "        Q[k] = Q[k]+(1/C[k])*(R-Q[k])   #Reward register\n",
    "        Reward[n,t] = R\n",
    "\n",
    "T = np.mean(Reward[:,0:999],axis=0)\n",
    "plt.plot(T)"
   ]
  },
  {
   "cell_type": "code",
   "execution_count": null,
   "metadata": {},
   "outputs": [],
   "source": [
    "X = np.mean(Reward[:,0:999],axis=0)\n",
    "# plt.plot(T)\n",
    "plt.plot(X)\n",
    "plt.show()"
   ]
  },
  {
   "cell_type": "code",
   "execution_count": null,
   "metadata": {},
   "outputs": [],
   "source": [
    "Q"
   ]
  },
  {
   "cell_type": "code",
   "execution_count": null,
   "metadata": {},
   "outputs": [],
   "source": [
    "np.ones((10,))"
   ]
  }
 ],
 "metadata": {
  "kernelspec": {
   "display_name": "basico",
   "language": "python",
   "name": "python3"
  },
  "language_info": {
   "codemirror_mode": {
    "name": "ipython",
    "version": 3
   },
   "file_extension": ".py",
   "mimetype": "text/x-python",
   "name": "python",
   "nbconvert_exporter": "python",
   "pygments_lexer": "ipython3",
   "version": "3.10.8"
  },
  "orig_nbformat": 4,
  "vscode": {
   "interpreter": {
    "hash": "574e93fb58bda07035505f46e2c46eff280992c7276cddd05cbfe2fed6edb448"
   }
  }
 },
 "nbformat": 4,
 "nbformat_minor": 2
}
