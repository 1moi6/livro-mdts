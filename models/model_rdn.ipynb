{
 "cells": [
  {
   "cell_type": "code",
   "execution_count": 24,
   "metadata": {},
   "outputs": [],
   "source": [
    "import numpy as np\n",
    "import matplotlib.pyplot as plt\n",
    "import random"
   ]
  },
  {
   "cell_type": "code",
   "execution_count": 40,
   "metadata": {},
   "outputs": [],
   "source": [
    "pq0, alfa = 0.05 , 1\n",
    "    \n",
    "p_quebrar = lambda x: pq0/(pq0+(1-pq0)*np.exp(-alfa*x))\n",
    "\n",
    "custos_acao0 = [[0,-100],[1/9,-10],[2/9,10],[1/3,20],[2/9,25],[1/9,30]] #nao fazer nada\n",
    "custos_acao1 = [[1,-500]] #substituicao\n",
    "custos_acao2 = [[1,-10]] # manutencao\n",
    "\n",
    "def valor_acao(estado,idx_acao,prob_q):\n",
    "    if idx_acao == 0:\n",
    "        pq = prob_q(estado[1])\n",
    "        valor = pq*custos_acao0[0][1] + (1-pq)*sum([x[0]*x[1] for x in custos_acao0[1:]])\n",
    "    elif idx_acao == 1:\n",
    "        valor = sum([x[0]*x[1] for x in custos_acao1])\n",
    "    elif idx_acao == 2:\n",
    "        valor = sum([x[0]*x[1] for x in custos_acao2])\n",
    "    \n",
    "    return valor\n",
    "\n",
    "def reward_estado(estado,probs,idx_ac):\n",
    "    rw = 0\n",
    "    for i in idx_ac:\n",
    "        rw = rw +  probs[i]*valor_acao(estado,i,p_quebrar)\n",
    "    \n",
    "    return rw"
   ]
  },
  {
   "cell_type": "code",
   "execution_count": 156,
   "metadata": {},
   "outputs": [
    {
     "data": {
      "text/plain": [
       "{'estados': [(1, 2), (1, 1), (1, -1), (1, 4), (1, 0), (1, 3)]}"
      ]
     },
     "execution_count": 156,
     "metadata": {},
     "output_type": "execute_result"
    }
   ],
   "source": [
    "arg = proximos((0,0),5)\n",
    "arg"
   ]
  },
  {
   "cell_type": "code",
   "execution_count": 159,
   "metadata": {},
   "outputs": [
    {
     "data": {
      "text/plain": [
       "array([11.12052366, 11.21077967,  9.78537394, 10.41658575,  9.4732645 ,\n",
       "        7.86133717, 12.09277707, 10.0038697 ,  9.24887301,  8.7886203 ])"
      ]
     },
     "execution_count": 159,
     "metadata": {},
     "output_type": "execute_result"
    }
   ],
   "source": [
    "np.random.normal(10,1,10)"
   ]
  }
 ],
 "metadata": {
  "kernelspec": {
   "display_name": "basico",
   "language": "python",
   "name": "python3"
  },
  "language_info": {
   "codemirror_mode": {
    "name": "ipython",
    "version": 3
   },
   "file_extension": ".py",
   "mimetype": "text/x-python",
   "name": "python",
   "nbconvert_exporter": "python",
   "pygments_lexer": "ipython3",
   "version": "3.10.8"
  },
  "orig_nbformat": 4
 },
 "nbformat": 4,
 "nbformat_minor": 2
}
