{
 "cells": [
  {
   "cell_type": "code",
   "execution_count": null,
   "metadata": {},
   "outputs": [],
   "source": [
    "import numpy as np\n",
    "import matplotlib.pyplot as plt\n",
    "import random\n",
    "from itertools import product\n",
    "import pandas as pd\n",
    "import seaborn as sns"
   ]
  },
  {
   "cell_type": "code",
   "execution_count": 83,
   "metadata": {},
   "outputs": [
    {
     "ename": "SyntaxError",
     "evalue": "incomplete input (3446586858.py, line 338)",
     "output_type": "error",
     "traceback": [
      "\u001b[0;36m  Cell \u001b[0;32mIn[83], line 338\u001b[0;36m\u001b[0m\n\u001b[0;31m    \u001b[0m\n\u001b[0m    ^\u001b[0m\n\u001b[0;31mSyntaxError\u001b[0m\u001b[0;31m:\u001b[0m incomplete input\n"
     ]
    }
   ],
   "source": [
    "def constroe_estados(profundidade):\n",
    "    estados = {}\n",
    "    estados_list = []\n",
    "    for v in range(profundidade):\n",
    "        aux = list(product([v],list(range(0,v+1))))\n",
    "        estados[str(v)] =  aux\n",
    "        estados_list = estados_list + aux\n",
    "\n",
    "    estados[str(profundidade)] = [(-1,-1)]  \n",
    "    estados_list = estados_list+[(-1,-1)]\n",
    "    return estados,estados_list\n",
    "\n",
    "def proximos(estado,profundidade):\n",
    "    atingiveis = {}\n",
    "    if estado[0]<profundidade and estado[0]>=0:\n",
    "        atingiveis[\"estados\"] = [(estado[0]+1,estado[1]+1),(estado[0]+1,0),(estado[0]+1,0),(0,0)]\n",
    "        atingiveis[\"acoes\"] = [0,0,1,2]\n",
    "\n",
    "        aux_q = pq0/(pq0+(1-pq0)*np.exp(-alfa*estado[1]))\n",
    "        \n",
    "        atingiveis[\"probs\"] = [1-aux_q,aux_q,1,1]\n",
    "        atingiveis[\"recs\"] = recompensa(estado)\n",
    "    elif estado[0]==-1 or estado[0]==profundidade:\n",
    "        atingiveis[\"estados\"] = [(-1,-1),(-1,-1),(-1,-1),(-1,-1)]\n",
    "        atingiveis[\"acoes\"] = [0,0,1,2]\n",
    "        atingiveis[\"probs\"] = [1,0,1,1] \n",
    "        atingiveis[\"recs\"] = [0,0,0,0]   \n",
    "\n",
    "    return atingiveis\n",
    "\n",
    "def anteriores(estado):\n",
    "    if estado[1]>0:\n",
    "        ants = [(estado[0]-1,estado[1]-1)]\n",
    "    elif estado[1]==0 and estado[0]>0:\n",
    "        ants = list(product([estado[0]-1],list(range(0,estado[0]-1))))\n",
    "        \n",
    "    return ants\n",
    "\n",
    "def transicao(estado1,estado2,acao,profundidade):\n",
    "    if acao == 0:\n",
    "        aux_q = pq0/(pq0+(1-pq0)*np.exp(-alfa*estado1[1]))\n",
    "        \n",
    "        pq = aux_q   \n",
    "        probs = 1-pq\n",
    "        dx0 = estado2[0]-estado1[0]\n",
    "        if dx0 == 1:\n",
    "            dy0 = estado2[1]-estado1[1]\n",
    "            if dy0 == 1:\n",
    "                pr = probs\n",
    "            elif estado2[1]==0:\n",
    "                pr = pq \n",
    "            else:\n",
    "                pr = 0  \n",
    "        else:\n",
    "            pr = 0\n",
    "            \n",
    "    elif acao == 1:\n",
    "        dx0 = estado2[0]-estado1[0]\n",
    "        if dx0==1 and estado1[0]==0:\n",
    "            pr = 1\n",
    "        else:\n",
    "            pr = 0\n",
    "        \n",
    "    elif acao == 2:\n",
    "        if estado2[1] == 0 and estado2[0] == 0:\n",
    "            pr = 1\n",
    "        else:\n",
    "            pr = 0\n",
    "    else:\n",
    "        pr = 0\n",
    "    \n",
    "    if estado2[0]==-1:\n",
    "        if estado1[0] == profundidade:\n",
    "            pr = 1\n",
    "        else:\n",
    "            pr = 0\n",
    "    if estado1[0]==-1:\n",
    "        if estado2[0] == -1:\n",
    "            pr = 1\n",
    "        else:\n",
    "            pr = 0\n",
    "    return pr\n",
    "\n",
    "def recompensa(estado):\n",
    "    tvida,trev = estado[0],estado[1]\n",
    "\n",
    "    valor_equipamento = np.exp(-0.005*tvida)\n",
    "    valor_manutencao = 0.02 - 0.01*np.exp(-0.1*tvida)\n",
    "\n",
    "    # pq = pq0/(pq0+(1-pq0)*np.exp(-alfa*trev))\n",
    "    valor_defeito = -2*valor_manutencao/valor_equipamento\n",
    "        \n",
    "    res_a01,res_a02 = 0.01,valor_defeito\n",
    "\n",
    "    res_a1 = -valor_manutencao/valor_equipamento\n",
    "    \n",
    "    res_a2 = -(1 - 0.8*valor_equipamento)\n",
    "    \n",
    "    res = [res_a01,res_a02,res_a1,res_a2]\n",
    "    if estado[0]==-1:\n",
    "        res = [0,0,0,0]\n",
    "    return res\n",
    "\n",
    "\n",
    "pq0, alfa = 0.01 , 0.4\n",
    "\n",
    "def cria_politica(lista_estados):\n",
    "    politica = {}\n",
    "    for est in lista_estados:\n",
    "        politica[est] = [1,0,0]\n",
    "    return politica\n",
    "\n",
    "def avalia_politica(sims, lista_estados,politica):\n",
    "    tol = 1e-5\n",
    "    prof = lista_estados[-2][0]\n",
    "    \n",
    "    VN = {v:1-2*random.random() for v in lista_estados}\n",
    "    VN[(-1,-1)]=0\n",
    "    \n",
    "    cnt, nor = 0, 10\n",
    "    \n",
    "    M = {}\n",
    "    M[0] = np.array(list(V.values()))\n",
    "    while nor>tol and cnt <= sims:\n",
    "        \n",
    "        V = {k:v for k,v in VN.items()}\n",
    "        VN = {}\n",
    "\n",
    "        for est in lista_estados:\n",
    "            next = proximos(est,prof) \n",
    "            nest = next[\"estados\"]\n",
    "            probs = next[\"probs\"]\n",
    "            recs = next[\"recs\"]\n",
    "            pols = politica[est]\n",
    "\n",
    "            v_a0 = probs[0]*(recs[0]+V[nest[0]])+probs[1]*(recs[1]+V[nest[1]])\n",
    "            v_a1 = probs[2]*(recs[2]+V[nest[2]])\n",
    "            v_a2 = probs[3]*(recs[3]+V[nest[3]])\n",
    "\n",
    "            VN[est] = pols[0]*v_a0+pols[1]*v_a1+pols[2]*v_a2\n",
    "        \n",
    "        cnt = cnt+1\n",
    "        M[cnt] = np.array(list(VN.values()))\n",
    "\n",
    "        nor = np.linalg.norm(M[cnt]-M[cnt-1])\n",
    "        # aux.append(nor)\n",
    "    return M\n",
    "\n",
    "def aprimora_politica(lista_estados,politica,sims = 50):\n",
    "    tol = 1e-5\n",
    "    prof = lista_estados[-2][0]\n",
    "    \n",
    "    VN = {v:1-2*random.random() for v in lista_estados}\n",
    "    VN[(-1,-1)]=0\n",
    "    \n",
    "    # politica = {est:0 for v in lista_estados}\n",
    "\n",
    "    P,M = {},{}\n",
    "    PLN = {k:v for k,v in politica.items()}\n",
    "\n",
    "    P[0] = politica\n",
    "    \n",
    "    cnt_pol = 0\n",
    "\n",
    "    estavel = False\n",
    "\n",
    "    while not estavel and cnt_pol<500:\n",
    "        cnt_pol = cnt_pol+1\n",
    "        \n",
    "        PL = {k:v for k,v in PLN.items()}\n",
    "        PLN = {}\n",
    "        \n",
    "        cnt, nor = 0, 10\n",
    "        while nor>tol and cnt <= sims:\n",
    "            \n",
    "            V = {k:v for k,v in VN.items()}\n",
    "            VN = {}\n",
    "\n",
    "            for est in lista_estados:\n",
    "                next = proximos(est,prof) \n",
    "                nest = next[\"estados\"]\n",
    "                probs = next[\"probs\"]\n",
    "                recs = next[\"recs\"]\n",
    "                pols = politica[est]\n",
    "\n",
    "                v_a0 = probs[0]*(recs[0]+V[nest[0]])+probs[1]*(recs[1]+V[nest[1]])\n",
    "                v_a1 = probs[2]*(recs[2]+V[nest[2]])\n",
    "                v_a2 = probs[3]*(recs[3]+V[nest[3]])\n",
    "\n",
    "                VN[est] = pols[0]*v_a0+pols[1]*v_a1+pols[2]*v_a2\n",
    "            \n",
    "            cnt = cnt+1\n",
    "            nor = np.linalg.norm(np.array(list(V.values()))-np.array(list(VN.values())))\n",
    "        \n",
    "        V = {k:v for k,v in VN.items()}\n",
    "        M[cnt_pol-1] = {k:v for k,v in VN.items()}\n",
    "        mud = 0\n",
    "        for est in lista_estados:\n",
    "            next = proximos(est,prof) \n",
    "            nest = next[\"estados\"]\n",
    "            probs = next[\"probs\"]\n",
    "            recs = next[\"recs\"]\n",
    "            pols = politica[est]\n",
    "            v_a0 = probs[0]*(recs[0]+V[nest[0]])+probs[1]*(recs[1]+V[nest[1]])\n",
    "            v_a1 = probs[2]*(recs[2]+V[nest[2]])\n",
    "            v_a2 = probs[3]*(recs[3]+V[nest[3]])\n",
    "            idx_pol_max = np.argmax([v_a0,v_a1,v_a2])\n",
    "            aux_pol = [0,0,0]\n",
    "            aux_pol[idx_pol_max]=1\n",
    "            PLN[est] = aux_pol\n",
    "            \n",
    "            if not pols[idx_pol_max] == 1:\n",
    "                mud = mud+1\n",
    "\n",
    "        if mud > 0:\n",
    "            estavel = False\n",
    "        else:\n",
    "            estavel = True\n",
    "            \n",
    "        politica = {k:v for k,v in PLN.items()}\n",
    "        P[cnt_pol] = {k:v for k,v in PLN.items()}\n",
    "\n",
    "    cnt, nor = 0, 10\n",
    "    while nor>tol and cnt <= sims:\n",
    "        \n",
    "        V = {k:v for k,v in VN.items()}\n",
    "        VN = {}\n",
    "\n",
    "        for est in lista_estados:\n",
    "            next = proximos(est,prof) \n",
    "            nest = next[\"estados\"]\n",
    "            probs = next[\"probs\"]\n",
    "            recs = next[\"recs\"]\n",
    "            pols = politica[est]\n",
    "            \n",
    "            v_a0 = probs[0]*(recs[0]+V[nest[0]])+probs[1]*(recs[1]+V[nest[1]])\n",
    "            v_a1 = probs[2]*(recs[2]+V[nest[2]])\n",
    "            v_a2 = probs[3]*(recs[3]+V[nest[3]])\n",
    "\n",
    "            VN[est] = pols[0]*v_a0+pols[1]*v_a1+pols[2]*v_a2\n",
    "\n",
    "        cnt = cnt+1\n",
    "        nor = np.linalg.norm(np.array(list(V.values()))-np.array(list(VN.values())))\n",
    "    \n",
    "    M[cnt_pol] = {k:v for k,v in VN.items()}\n",
    "    \n",
    "    return P,M\n",
    "\n",
    "\n",
    "def value_iteration(lista_estados,politica,sims = 500):\n",
    "    tol = 1e-5\n",
    "    prof = lista_estados[-2][0]\n",
    "    \n",
    "    VN = {v:0.05 for v in lista_estados}\n",
    "    VN[(-1,-1)] = 0\n",
    "\n",
    "    PLN = {k:np.argmax(v) for k,v in politica.items()}\n",
    "    \n",
    "    M,P = {},{}\n",
    "    M[0] = np.array(list(VN.values()))\n",
    "    P[0] = {k:v for k,v in PLN.items()}\n",
    "    \n",
    "    cnt, nor = 0, 10\n",
    "    while nor>tol and cnt <= sims:\n",
    "        \n",
    "        PL = {k:v for k,v in PLN.items()}\n",
    "        PLN = {}\n",
    "        \n",
    "        V = {k:v for k,v in VN.items()}\n",
    "        VN = {}\n",
    "\n",
    "        for est in lista_estados:\n",
    "            next = proximos(est,prof) \n",
    "            nest = next[\"estados\"]\n",
    "            probs = next[\"probs\"]\n",
    "            recs = next[\"recs\"]\n",
    "        \n",
    "            v_a0 = probs[0]*(recs[0]+V[nest[0]])+probs[1]*(recs[1]+V[nest[1]])\n",
    "            v_a1 = probs[2]*(recs[2]+V[nest[2]])\n",
    "            v_a2 = probs[3]*(recs[3]+V[nest[3]])\n",
    "\n",
    "            VN[est] = np.max([v_a0,v_a1,v_a2])\n",
    "            PLN[est] = np.argmax([v_a0,v_a1,v_a2])\n",
    "            \n",
    "        cnt = cnt+1\n",
    "        nor = np.linalg.norm(np.array(list(V.values()))-np.array(list(VN.values())))\n",
    "        M[cnt] = np.array(list(VN.values()))\n",
    "        P[cnt] = {k:v for k,v in PLN.items()}\n",
    "    \n",
    "    return P, M\n",
    "\n",
    "def gera_episodio(prof,T,politica,est0):\n",
    "\n",
    "    est = (est0[0],est0[1])\n",
    "    epi,t = [],0\n",
    "    while t<T:\n",
    "        t = t+1\n",
    "        polis = np.cumsum(politica[est])\n",
    "        aux_ac = random.random()\n",
    "        ac = np.sum([int(x<aux_ac) for x in polis])\n",
    "        nxt = proximos(est,prof)\n",
    "        if ac == 0:\n",
    "            aux_n = random.random()\n",
    "            if aux_n <= nxt[\"probs\"][0]:\n",
    "                rec = nxt[\"recs\"][0]\n",
    "                nest = nxt[\"estados\"][0]\n",
    "            else:\n",
    "                rec = nxt[\"recs\"][1]\n",
    "                nest = nxt[\"estados\"][1]\n",
    "        elif ac == 1:\n",
    "            rec = nxt[\"recs\"][2]\n",
    "            nest = nxt[\"estados\"][2]\n",
    "        elif ac == 2:\n",
    "            rec = nxt[\"recs\"][3]\n",
    "            nest = nxt[\"estados\"][3]\n",
    "\n",
    "        epi.append([est,ac,rec])\n",
    "        est = (nest[0],nest[1])\n",
    "\n",
    "    \n",
    "    return epi\n",
    "\n",
    "def FirstVisitMC(lista_estados,T):\n",
    "    polis = cria_politica(lista_estados)\n",
    "    V = {v:0.05 for v in lista_estados}\n",
    "    Ret = {v:0 for v in lista_estados}\n",
    "    \n",
    "    prof = lista_estados[-2][0]\n",
    "    epi = gera_episodio(prof,T,polis,(0,0))\n",
    "\n",
    "    for t in range(len(epi)-1,-1,-1):\n",
    "\n",
    "\n",
    "\n",
    "\n",
    "\n",
    "    \n",
    "\n",
    "    \n"
   ]
  },
  {
   "cell_type": "code",
   "execution_count": 78,
   "metadata": {},
   "outputs": [
    {
     "data": {
      "text/plain": [
       "[[(0, 0), 0, 0.01],\n",
       " [(1, 1), 0, 0.01],\n",
       " [(2, 2), 0, 0.01],\n",
       " [(3, 3), 0, 0.01],\n",
       " [(4, 4), 0, 0.01],\n",
       " [(5, 5), 0, 0.01],\n",
       " [(6, 6), 0, 0.01],\n",
       " [(7, 7), 0, 0.01],\n",
       " [(8, 8), 0, 0.01],\n",
       " [(9, 9), 0, 0.01],\n",
       " [(10, 10), 0, -0.03431602338595094],\n",
       " [(11, 0), 0, 0.01],\n",
       " [(12, 1), 0, 0.01],\n",
       " [(13, 2), 0, 0.01],\n",
       " [(14, 3), 0, 0.01],\n",
       " [(15, 4), 0, 0.01],\n",
       " [(16, 5), 0, 0.01],\n",
       " [(17, 6), 0, 0.01],\n",
       " [(18, 7), 0, 0.01],\n",
       " [(19, 8), 0, 0.01]]"
      ]
     },
     "execution_count": 78,
     "metadata": {},
     "output_type": "execute_result"
    }
   ],
   "source": [
    "prof = 20\n",
    "_, est_list = constroe_estados(prof)\n",
    "polis = cria_politica(est_list)\n",
    "gera_episodio(prof,20,polis,(0,0),neps = 10)"
   ]
  },
  {
   "cell_type": "code",
   "execution_count": null,
   "metadata": {},
   "outputs": [],
   "source": [
    "prof = 20\n",
    "_, est_list = constroe_estados(prof)\n",
    "polis = cria_politica(est_list)\n",
    "# M = avalia_politica(50,est_list,politica)\n",
    "P, M = aprimora_politica(est_list,polis)\n",
    "x = [a[0] for a,b in zip(P[0].items(),P[3].items()) if not np.argmax(a[1])==np.argmax(b[1])]\n",
    " "
   ]
  },
  {
   "cell_type": "code",
   "execution_count": 82,
   "metadata": {},
   "outputs": [
    {
     "data": {
      "text/plain": [
       "[9, 8, 7, 6, 5, 4, 3, 2, 1, 0]"
      ]
     },
     "execution_count": 82,
     "metadata": {},
     "output_type": "execute_result"
    }
   ],
   "source": [
    "list(range(10-1,-1,-1))"
   ]
  },
  {
   "cell_type": "code",
   "execution_count": 53,
   "metadata": {},
   "outputs": [
    {
     "data": {
      "text/plain": [
       "[0, 0, 0]"
      ]
     },
     "execution_count": 53,
     "metadata": {},
     "output_type": "execute_result"
    }
   ],
   "source": [
    "polis = np.cumsum([0.5,0.25,0.25])\n",
    "aux_ac = random.random()\n",
    "\n",
    "ac"
   ]
  },
  {
   "cell_type": "code",
   "execution_count": 54,
   "metadata": {},
   "outputs": [
    {
     "data": {
      "text/plain": [
       "0.47984807443725486"
      ]
     },
     "execution_count": 54,
     "metadata": {},
     "output_type": "execute_result"
    }
   ],
   "source": [
    "aux_ac "
   ]
  },
  {
   "cell_type": "code",
   "execution_count": null,
   "metadata": {},
   "outputs": [],
   "source": [
    "P[1]"
   ]
  },
  {
   "cell_type": "code",
   "execution_count": null,
   "metadata": {},
   "outputs": [],
   "source": [
    "M[1]"
   ]
  },
  {
   "cell_type": "code",
   "execution_count": null,
   "metadata": {},
   "outputs": [],
   "source": [
    "prof = 20\n",
    "_, est_list = constroe_estados(prof)\n",
    "polis = cria_politica(est_list)\n",
    "# M = avalia_politica(50,est_list,politica)\n",
    "P, M = value_iteration(est_list,polis)\n",
    "# x = [a[0] for a,b in zip(P[0].items(),P[].items()) if not a[1]==b[1]]"
   ]
  },
  {
   "cell_type": "code",
   "execution_count": null,
   "metadata": {},
   "outputs": [],
   "source": [
    "x = [a[0] for a,b in zip(P[0].items(),P[1].items()) if not a[1]==b[1]]\n",
    "x"
   ]
  },
  {
   "cell_type": "code",
   "execution_count": null,
   "metadata": {},
   "outputs": [],
   "source": [
    "est_list"
   ]
  },
  {
   "cell_type": "code",
   "execution_count": null,
   "metadata": {},
   "outputs": [],
   "source": [
    "x = [a[0] for a,b in zip(P[0].items(),P[].items()) if not a[1]==b[1]]"
   ]
  },
  {
   "cell_type": "code",
   "execution_count": null,
   "metadata": {},
   "outputs": [],
   "source": [
    "vals = [v[0] for k,v in M.items()]\n",
    "sns.lineplot(vals)"
   ]
  },
  {
   "cell_type": "code",
   "execution_count": null,
   "metadata": {},
   "outputs": [],
   "source": [
    "estado = (5,5)\n",
    "sims = 100\n",
    "politicas = list(product([0,1,2],[0,1,2],[0,1,2],[0,1,2],[0,1,2],[0,1,2],[0,1,2],[0,1,2]))\n",
    "tpol = len(politicas)\n",
    "M = {}\n",
    "Mr = {}\n",
    "Ms = {}\n",
    "media = [0]*tpol\n",
    "\n",
    "for i in range(sims):\n",
    "    print(i,end=\"\\r\")\n",
    "    # rec_p = []\n",
    "    rec_ac_p = []\n",
    "    # rec_s = []\n",
    "    for p in politicas:\n",
    "        rec = []\n",
    "        # rec_es = [estado]\n",
    "        cnt = 0\n",
    "        est = (estado[0],estado[1])\n",
    "        for x in p:\n",
    "            auxr = recompensa(est,x)\n",
    "            # rec.append(auxr)\n",
    "            cnt = cnt + auxr\n",
    "            if x==0:\n",
    "                aux_q = pq0/(pq0+(1-pq0)*np.exp(-alfa*est[1]))\n",
    "                if random.random()>aux_q:\n",
    "                    est = (est[0]+1,est[1]+1)\n",
    "                else:\n",
    "                    est = (est[0]+1,0)\n",
    "            elif x==1:\n",
    "                est = (est[0]+1,0)\n",
    "            elif x==2:\n",
    "                est = (0,0)\n",
    "            # rec_es.append(est)\n",
    "        rec_ac_p.append(cnt)\n",
    "        # rec_p.append(rec)\n",
    "        # rec_s.append(rec_es)\n",
    "    M[i] = rec_ac_p\n",
    "    # Mr[i] = rec_p\n",
    "    # Ms[i] =  rec_s\n",
    "    media = [media[j]+rec_ac_p[j]/sims for j in range(tpol)]\n",
    "\n",
    "[politicas[np.argmax(media)],np.max(media)]\n",
    "\n",
    "\n",
    "            \n",
    "\n",
    "    "
   ]
  },
  {
   "cell_type": "code",
   "execution_count": null,
   "metadata": {},
   "outputs": [],
   "source": [
    "# med = [0]*len(politicas)\n",
    "zz = []\n",
    "for i in range(sims):\n",
    "    # med = [med[j]+0.1*M[i][j] for j in range(len(politicas))]\n",
    "    aux = np.argmax(politicas[np.argmax(M[i])])\n",
    "    zz.append(aux)\n",
    "    # print(politicas[np.argmax(M[i])],np.max(M[i]))\n",
    "\n",
    "[z for z in zz if z>0]"
   ]
  },
  {
   "cell_type": "code",
   "execution_count": null,
   "metadata": {},
   "outputs": [],
   "source": [
    "[z for z in zz if z>0]"
   ]
  },
  {
   "cell_type": "code",
   "execution_count": null,
   "metadata": {},
   "outputs": [],
   "source": [
    "prof = 30\n",
    "est_dicio, est_list = constroe_estados(prof)\n",
    "recs = []\n",
    "\n",
    "aux1 = []\n",
    "aux2 = []\n",
    "aux3 = []\n",
    "\n",
    "for x in est_dicio[\"28\"]:\n",
    "    aux1.append(recompensa(x,0))\n",
    "    aux2.append(recompensa(x,1))\n",
    "    aux3.append(recompensa(x,2))\n"
   ]
  },
  {
   "cell_type": "code",
   "execution_count": null,
   "metadata": {},
   "outputs": [],
   "source": [
    "anteriores((29,0))"
   ]
  },
  {
   "cell_type": "code",
   "execution_count": null,
   "metadata": {},
   "outputs": [],
   "source": [
    "recompensa((10,10),0)\n",
    "estado1 = []\n",
    "estado2 = []\n",
    "acao = []\n",
    "probs = []\n",
    "for x in est_list:\n",
    "    \n",
    "    "
   ]
  },
  {
   "cell_type": "code",
   "execution_count": null,
   "metadata": {},
   "outputs": [],
   "source": [
    "prof = 30\n",
    "est_dicio, est_list = constroe_estados(prof)"
   ]
  },
  {
   "cell_type": "code",
   "execution_count": null,
   "metadata": {},
   "outputs": [],
   "source": [
    "est_dicio[\"29\"]"
   ]
  },
  {
   "cell_type": "code",
   "execution_count": null,
   "metadata": {},
   "outputs": [],
   "source": [
    "prof = 30\n",
    "_ , est_list = constroe_estados(prof)\n",
    "estado1 = []\n",
    "estado2 = []\n",
    "acao = []\n",
    "probs = []\n",
    "for x in est_list:\n",
    "    for y in est_list:\n",
    "        estado1.append(x)\n",
    "        estado2.append(y)\n",
    "        acao.append(0)\n",
    "        probs.append(transicao(x,y,0))\n",
    "\n",
    "df = pd.DataFrame({'estado origem':estado1,'estado_chegada':estado2,'acao':acao,\"probs\":probs})\n",
    "df"
   ]
  },
  {
   "cell_type": "code",
   "execution_count": null,
   "metadata": {},
   "outputs": [],
   "source": [
    "df[df.probs>0]"
   ]
  },
  {
   "cell_type": "code",
   "execution_count": null,
   "metadata": {},
   "outputs": [],
   "source": [
    "transicao((3,0),(4,2),0)"
   ]
  },
  {
   "cell_type": "code",
   "execution_count": null,
   "metadata": {},
   "outputs": [],
   "source": [
    "proximos((4,0))"
   ]
  },
  {
   "cell_type": "code",
   "execution_count": null,
   "metadata": {},
   "outputs": [],
   "source": [
    "pd.DataFrame(proximos((4,0)))"
   ]
  }
 ],
 "metadata": {
  "kernelspec": {
   "display_name": "basico",
   "language": "python",
   "name": "python3"
  },
  "language_info": {
   "codemirror_mode": {
    "name": "ipython",
    "version": 3
   },
   "file_extension": ".py",
   "mimetype": "text/x-python",
   "name": "python",
   "nbconvert_exporter": "python",
   "pygments_lexer": "ipython3",
   "version": "3.10.8"
  },
  "orig_nbformat": 4
 },
 "nbformat": 4,
 "nbformat_minor": 2
}
