{
 "cells": [
  {
   "cell_type": "code",
   "execution_count": 292,
   "metadata": {},
   "outputs": [],
   "source": [
    "import numpy as np\n",
    "import matplotlib.pyplot as plt\n",
    "import random\n",
    "from itertools import product\n",
    "import pandas as pd"
   ]
  },
  {
   "cell_type": "code",
   "execution_count": 293,
   "metadata": {},
   "outputs": [],
   "source": [
    "p_quebrar = lambda x: pq0/(pq0+(1-pq0)*np.exp(-alfa*x))\n",
    "\n",
    "custos_acao0 = [[0,-100],[1/9,-10],[2/9,10],[1/3,20],[2/9,25],[1/9,30]] #nao fazer nada\n",
    "custos_acao1 = [[1,-500]] #substituicao\n",
    "custos_acao2 = [[1,-10]] # manutencao\n",
    "\n",
    "def valor_acao(estado,idx_acao,prob_q):\n",
    "    if idx_acao == 0:\n",
    "        pq = prob_q(estado[1])\n",
    "        valor = pq*custos_acao0[0][1] + (1-pq)*sum([x[0]*x[1] for x in custos_acao0[1:]])\n",
    "    elif idx_acao == 1:\n",
    "        valor = sum([x[0]*x[1] for x in custos_acao1])\n",
    "    elif idx_acao == 2:\n",
    "        valor = sum([x[0]*x[1] for x in custos_acao2])\n",
    "    \n",
    "    return valor\n",
    "\n",
    "def reward_estado(estado,probs,idx_ac):\n",
    "    rw = 0\n",
    "    for i in idx_ac:\n",
    "        rw = rw +  probs[i]*valor_acao(estado,i,p_quebrar)\n",
    "    \n",
    "    return rw"
   ]
  },
  {
   "cell_type": "code",
   "execution_count": 320,
   "metadata": {},
   "outputs": [],
   "source": [
    "def constroe_estados(tx,ty):\n",
    "    estados = {}\n",
    "    estados[\"0\"] = [(0,0)]\n",
    "    estados_list = []\n",
    "    for v in range(tx):\n",
    "        aux = list(product([v+1],[-1]+list(range(0,(v+1)*(ty-1)+1))))\n",
    "        estados[str(v+1)] =  aux\n",
    "        estados_list = estados_list + aux  \n",
    "    return estados,estados_list\n",
    "\n",
    "def proximos(estado,ty):\n",
    "    atingiveis = {}\n",
    "        \n",
    "    if estado[1]>=0:\n",
    "        aux_0 = list(set(list(product([estado[0]+1],[-1]+[estado[1]+i for i in range(ty)]))))\n",
    "        ac_0 = [0]*len(aux_0)\n",
    "        \n",
    "        aux_1 = [(estado[0]+1,0)]\n",
    "    \n",
    "        aux_2 = [(0,0)]\n",
    "    \n",
    "        atingiveis[\"estados\"] = aux_0 + aux_1+ aux_2\n",
    "        probs = []\n",
    "        for y in aux_0:\n",
    "            probs.append(transicao(estado,y,0,ty))\n",
    "        \n",
    "        probs = probs + [1,1]\n",
    "        ac = ac_0+[1,2]\n",
    "\n",
    "\n",
    "        atingiveis[\"acoes\"] = ac\n",
    "        atingiveis[\"probs\"] = probs\n",
    "    \n",
    "    return atingiveis\n",
    "\n",
    "def define_probs(ty):\n",
    "    aux = list(range(0,ty))\n",
    "    # cr1 = [(x+1)/ty for x in aux]\n",
    "    # cr2 = [1-x/ty for x in aux]\n",
    "    # cr = np.array([min(x,y) for x,y in zip(cr1,cr2)])\n",
    "\n",
    "    mu =  np.mean(aux)\n",
    "    s2i = 1/np.var(aux)\n",
    "    cr = [np.exp(-s2i*(x-mu)**2) for x in aux]\n",
    "    return cr/sum(cr) \n",
    "\n",
    "def transicao(estado1,estado2,acao,ty):\n",
    "    if acao == 0:\n",
    "        aux_q_km = pq0/(pq0+(1-pq0)*np.exp(-alfa*estado1[1]))\n",
    "        # aux_q_t = pq0/(pq0+(1-pq0)*np.exp(-alfa*estado1[1]))\n",
    "\n",
    "        pq = aux_q_km   \n",
    "        probs = (1-pq)*define_probs(ty)\n",
    "        dx0 = estado2[0]-estado1[0]\n",
    "        if dx0==1 and estado1[1]>=0:\n",
    "            dy0 = estado2[1]-estado1[1]\n",
    "            if dy0 in list(range(ty)) and estado2[1]>=0:\n",
    "                pr = probs[dy0]\n",
    "            elif estado2[1]==-1:\n",
    "                pr = pq \n",
    "            else:\n",
    "                pr = 0  \n",
    "        else:\n",
    "            pr = 0\n",
    "            \n",
    "    elif acao == 1:\n",
    "        dx0 = estado2[0]-estado1[0]\n",
    "        if dx0==1 and estado1[0]==0:\n",
    "            pr = 1\n",
    "        else:\n",
    "            pr = 0\n",
    "        \n",
    "    elif acao == 2:\n",
    "        if estado2[1] == 0 and estado2[0] == 0:\n",
    "            pr = 1\n",
    "        else:\n",
    "            pr = 0\n",
    "    else:\n",
    "        pr = 0\n",
    "\n",
    "    return pr\n",
    "\n",
    "\n",
    "\n",
    "pq0, alfa = 0.01 , 0.5\n"
   ]
  },
  {
   "cell_type": "code",
   "execution_count": null,
   "metadata": {},
   "outputs": [],
   "source": [
    "tx,ty = 5,3\n",
    "_ , est_list = constroe_estados(tx,ty)\n",
    "estado1 = []\n",
    "estado2 = []\n",
    "acao = []\n",
    "probs = []\n",
    "for x in est_list:\n",
    "    for y in est_list:\n",
    "        estado1.append(x)\n",
    "        estado2.append(y)\n",
    "        acao.append(0)\n",
    "        probs.append(transicao(x,y,0,ty))\n",
    "\n",
    "df = pd.DataFrame({'estado origem':estado1,'estado_chegada':estado2,'acao':acao,\"probs\":probs})\n",
    "df"
   ]
  },
  {
   "cell_type": "code",
   "execution_count": null,
   "metadata": {},
   "outputs": [],
   "source": [
    "df[df.probs>0]"
   ]
  },
  {
   "cell_type": "code",
   "execution_count": 326,
   "metadata": {},
   "outputs": [
    {
     "data": {
      "text/plain": [
       "0"
      ]
     },
     "execution_count": 326,
     "metadata": {},
     "output_type": "execute_result"
    }
   ],
   "source": [
    "transicao((3,-1),(4,0),0,5)"
   ]
  },
  {
   "cell_type": "code",
   "execution_count": 311,
   "metadata": {},
   "outputs": [
    {
     "data": {
      "text/plain": [
       "2.4837318858984925"
      ]
     },
     "execution_count": 311,
     "metadata": {},
     "output_type": "execute_result"
    }
   ],
   "source": []
  },
  {
   "cell_type": "code",
   "execution_count": 330,
   "metadata": {},
   "outputs": [
    {
     "data": {
      "text/html": [
       "<div>\n",
       "<style scoped>\n",
       "    .dataframe tbody tr th:only-of-type {\n",
       "        vertical-align: middle;\n",
       "    }\n",
       "\n",
       "    .dataframe tbody tr th {\n",
       "        vertical-align: top;\n",
       "    }\n",
       "\n",
       "    .dataframe thead th {\n",
       "        text-align: right;\n",
       "    }\n",
       "</style>\n",
       "<table border=\"1\" class=\"dataframe\">\n",
       "  <thead>\n",
       "    <tr style=\"text-align: right;\">\n",
       "      <th></th>\n",
       "      <th>estados</th>\n",
       "      <th>acoes</th>\n",
       "      <th>probs</th>\n",
       "    </tr>\n",
       "  </thead>\n",
       "  <tbody>\n",
       "    <tr>\n",
       "      <th>0</th>\n",
       "      <td>(5, -1)</td>\n",
       "      <td>0</td>\n",
       "      <td>0.010000</td>\n",
       "    </tr>\n",
       "    <tr>\n",
       "      <th>1</th>\n",
       "      <td>(5, 4)</td>\n",
       "      <td>0</td>\n",
       "      <td>0.053944</td>\n",
       "    </tr>\n",
       "    <tr>\n",
       "      <th>2</th>\n",
       "      <td>(5, 1)</td>\n",
       "      <td>0</td>\n",
       "      <td>0.241759</td>\n",
       "    </tr>\n",
       "    <tr>\n",
       "      <th>3</th>\n",
       "      <td>(5, 0)</td>\n",
       "      <td>0</td>\n",
       "      <td>0.053944</td>\n",
       "    </tr>\n",
       "    <tr>\n",
       "      <th>4</th>\n",
       "      <td>(5, 3)</td>\n",
       "      <td>0</td>\n",
       "      <td>0.241759</td>\n",
       "    </tr>\n",
       "    <tr>\n",
       "      <th>5</th>\n",
       "      <td>(5, 2)</td>\n",
       "      <td>0</td>\n",
       "      <td>0.398594</td>\n",
       "    </tr>\n",
       "    <tr>\n",
       "      <th>6</th>\n",
       "      <td>(5, 0)</td>\n",
       "      <td>1</td>\n",
       "      <td>1.000000</td>\n",
       "    </tr>\n",
       "    <tr>\n",
       "      <th>7</th>\n",
       "      <td>(0, 0)</td>\n",
       "      <td>2</td>\n",
       "      <td>1.000000</td>\n",
       "    </tr>\n",
       "  </tbody>\n",
       "</table>\n",
       "</div>"
      ],
      "text/plain": [
       "   estados  acoes     probs\n",
       "0  (5, -1)      0  0.010000\n",
       "1   (5, 4)      0  0.053944\n",
       "2   (5, 1)      0  0.241759\n",
       "3   (5, 0)      0  0.053944\n",
       "4   (5, 3)      0  0.241759\n",
       "5   (5, 2)      0  0.398594\n",
       "6   (5, 0)      1  1.000000\n",
       "7   (0, 0)      2  1.000000"
      ]
     },
     "execution_count": 330,
     "metadata": {},
     "output_type": "execute_result"
    }
   ],
   "source": [
    "pd.DataFrame(proximos((4,0),5))"
   ]
  }
 ],
 "metadata": {
  "kernelspec": {
   "display_name": "basico",
   "language": "python",
   "name": "python3"
  },
  "language_info": {
   "codemirror_mode": {
    "name": "ipython",
    "version": 3
   },
   "file_extension": ".py",
   "mimetype": "text/x-python",
   "name": "python",
   "nbconvert_exporter": "python",
   "pygments_lexer": "ipython3",
   "version": "3.10.8"
  },
  "orig_nbformat": 4
 },
 "nbformat": 4,
 "nbformat_minor": 2
}
